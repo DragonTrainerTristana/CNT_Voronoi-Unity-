{
  "cells": [
    {
      "cell_type": "code",
      "execution_count": 3,
      "metadata": {
        "colab": {
          "base_uri": "https://localhost:8080/",
          "height": 248
        },
        "id": "AmfLcTZYbsZx",
        "outputId": "4b099949-073c-4c72-fdf5-f8f6ce020765"
      },
      "outputs": [],
      "source": [
        "import matplotlib.pyplot as plt\n",
        "import numpy as np\n",
        "import json\n",
        "from scipy.spatial import Voronoi\n",
        "\n",
        "for x in range(20):\n",
        "    # 초기화\n",
        "    N_DOTS = 100000 + (50000 * x)\n",
        "    SPACE_LENGTH = 300\n",
        "    N_DIM = 3\n",
        "\n",
        "    # 랜덤 시드\n",
        "    np.random.seed(8)\n",
        "    dots = np.random.uniform(0, SPACE_LENGTH, (N_DOTS, N_DIM)) # 정규분포 난수\n",
        "    vor = Voronoi(dots) # Voronoi \n",
        "\n",
        "    np.savetxt(\"points\"+str(x)+\".csv\", vor.points, delimiter=',', fmt='%f') # Silica Points Location\n",
        "    np.savetxt(\"voronoi_vertices\"+str(x)+\".csv\", vor.vertices, delimiter=',', fmt='%f') \n",
        "    vor_dict = {str(key)[1:-1]: value for key, value in vor.ridge_dict.items()}\n",
        "\n",
        "    with open('voronoi_dict'+str(x)+'.json', 'w') as vd:\n",
        "        json.dump(vor_dict, vd)\n",
        "\n",
        "    for point_idx, vertice_idx in zip(vor.ridge_points, vor.ridge_vertices):\n",
        "        vertice_idx = np.asarray(vertice_idx)\n",
        "        if np.all(vertice_idx >= 0):\n",
        "            for i in range(len(vertice_idx) - 1):\n",
        "                v0 = vor.vertices[vertice_idx[i]]\n",
        "                v1 = vor.vertices[vertice_idx[i+1]]\n",
        "        else:\n",
        "            i = vertice_idx[vertice_idx >= 0][0]\n",
        "            t = vor.points[point_idx[1]] - vor.points[point_idx[0]]  # tangent\n",
        "            t /= np.linalg.norm(t)"
      ]
    },
    {
      "cell_type": "code",
      "execution_count": null,
      "metadata": {},
      "outputs": [],
      "source": []
    }
  ],
  "metadata": {
    "colab": {
      "provenance": []
    },
    "kernelspec": {
      "display_name": "Python 3",
      "name": "python3"
    },
    "language_info": {
      "codemirror_mode": {
        "name": "ipython",
        "version": 3
      },
      "file_extension": ".py",
      "mimetype": "text/x-python",
      "name": "python",
      "nbconvert_exporter": "python",
      "pygments_lexer": "ipython3",
      "version": "3.11.2"
    }
  },
  "nbformat": 4,
  "nbformat_minor": 0
}
